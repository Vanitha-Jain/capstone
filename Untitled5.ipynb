{
  "nbformat": 4,
  "nbformat_minor": 0,
  "metadata": {
    "colab": {
      "provenance": [],
      "authorship_tag": "ABX9TyPus4UDDL2CyqVllhM5KgrS",
      "include_colab_link": true
    },
    "kernelspec": {
      "name": "python3",
      "display_name": "Python 3"
    },
    "language_info": {
      "name": "python"
    }
  },
  "cells": [
    {
      "cell_type": "markdown",
      "metadata": {
        "id": "view-in-github",
        "colab_type": "text"
      },
      "source": [
        "<a href=\"https://colab.research.google.com/github/Vanitha-Jain/capstone/blob/Feature-selection-new/Untitled5.ipynb\" target=\"_parent\"><img src=\"https://colab.research.google.com/assets/colab-badge.svg\" alt=\"Open In Colab\"/></a>"
      ]
    },
    {
      "cell_type": "code",
      "execution_count": 2,
      "metadata": {
        "colab": {
          "base_uri": "https://localhost:8080/"
        },
        "id": "y38_94jakegX",
        "outputId": "cc9231ae-62a6-4d87-9c37-d5c1f71dadc1"
      },
      "outputs": [
        {
          "output_type": "stream",
          "name": "stdout",
          "text": [
            "['.config', 'APC2DFS2_after_feature.csv', 'CDKFS2_after_feature.csv', 'MACCSFS2_after_feature.csv', 'CDKEFS2_after_feature.csv', 'KRFS2_after_feature.csv', 'SSCFS2_after_feature.csv', 'ESFS2_after_feature.csv', 'RDFS2_after_feature.csv', 'PCFS2_after_feature.csv', 'CDKGFS2_after_feature.csv', 'KRCFS2_after_feature.csv', 'MFS2_after_feature.csv', 'SSFS2_after_feature.csv', 'AP2DFS2_after_feature.csv', 'sample_data']\n"
          ]
        }
      ],
      "source": [
        "import os\n",
        "print(os.listdir(\"/content\"))"
      ]
    },
    {
      "cell_type": "code",
      "source": [
        "import pandas as pd"
      ],
      "metadata": {
        "id": "7FxSbwcrl4bO"
      },
      "execution_count": 7,
      "outputs": []
    },
    {
      "cell_type": "code",
      "source": [
        "# Define the list of file paths for all 14 CSV files\n",
        "file_paths = [\n",
        "    'APC2DFS2_after_feature.csv', 'CDKFS2_after_feature.csv', 'MACCSFS2_after_feature.csv', 'CDKEFS2_after_feature.csv', 'KRFS2_after_feature.csv', 'SSCFS2_after_feature.csv', 'ESFS2_after_feature.csv', 'RDFS2_after_feature.csv', 'PCFS2_after_feature.csv', 'CDKGFS2_after_feature.csv', 'KRCFS2_after_feature.csv', 'MFS2_after_feature.csv', 'SSFS2_after_feature.csv', 'AP2DFS2_after_feature.csv'\n",
        "]\n",
        "\n",
        "# Read the first dataset to initialize\n",
        "df_combined = pd.read_csv(file_paths[0])\n",
        "\n",
        "# Check if \"Unnamed: 0\" and \"bioactivity_class\" columns are the same across all datasets\n",
        "for file_path in file_paths[1:]:\n",
        "    df = pd.read_csv(file_path)\n",
        "\n",
        "    # Check if 'Unnamed: 0' and 'bioactivity_class' columns are equal to the first dataset\n",
        "    if not df['Unnamed: 0'].equals(df_combined['Unnamed: 0']) or not df['class'].equals(df_combined['class']):\n",
        "        raise ValueError(f\"Mismatch in columns 'Unnamed: 0' or 'class' in file {file_path}\")\n",
        "\n",
        "# Now append the remaining datasets, keeping the column order as they are\n",
        "for file_path in file_paths[1:]:\n",
        "    df = pd.read_csv(file_path)\n",
        "\n",
        "    # Merge on 'Unnamed: 0' and 'bioactivity_class', but keep the rest of the columns as they are\n",
        "    df_combined = pd.merge(df_combined, df, on=['Unnamed: 0', 'class'], how='outer')\n",
        "\n",
        "# Save the combined dataframe to a new CSV file\n",
        "df_combined.to_csv(\"combined_dataset_FS2.csv\", index=False)\n",
        "\n",
        "print(\"Datasets combined successfully!\")"
      ],
      "metadata": {
        "colab": {
          "base_uri": "https://localhost:8080/"
        },
        "id": "IfyyIWuglZ2p",
        "outputId": "574e7a94-a7ce-417d-f3ad-e1df7e50425f"
      },
      "execution_count": 8,
      "outputs": [
        {
          "output_type": "stream",
          "name": "stdout",
          "text": [
            "Datasets combined successfully!\n"
          ]
        }
      ]
    }
  ]
}