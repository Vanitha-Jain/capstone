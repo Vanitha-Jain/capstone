{
  "nbformat": 4,
  "nbformat_minor": 0,
  "metadata": {
    "colab": {
      "provenance": [],
      "authorship_tag": "ABX9TyNlimZv+CcucCGehP7+6GJJ",
      "include_colab_link": true
    },
    "kernelspec": {
      "name": "python3",
      "display_name": "Python 3"
    },
    "language_info": {
      "name": "python"
    }
  },
  "cells": [
    {
      "cell_type": "markdown",
      "metadata": {
        "id": "view-in-github",
        "colab_type": "text"
      },
      "source": [
        "<a href=\"https://colab.research.google.com/github/Vanitha-Jain/capstone/blob/Molecular-descriptors/Morgan.ipynb\" target=\"_parent\"><img src=\"https://colab.research.google.com/assets/colab-badge.svg\" alt=\"Open In Colab\"/></a>"
      ]
    },
    {
      "cell_type": "code",
      "execution_count": null,
      "metadata": {
        "colab": {
          "base_uri": "https://localhost:8080/"
        },
        "id": "C6qVcvjIflbV",
        "outputId": "f9da664c-2c17-4fe7-cc4f-5503f0387aea"
      },
      "outputs": [
        {
          "output_type": "stream",
          "name": "stdout",
          "text": [
            "Collecting rdkit-pypi\n",
            "  Downloading rdkit_pypi-2022.9.5-cp310-cp310-manylinux_2_17_x86_64.manylinux2014_x86_64.whl.metadata (3.9 kB)\n",
            "Requirement already satisfied: numpy in /usr/local/lib/python3.10/dist-packages (from rdkit-pypi) (1.26.4)\n",
            "Requirement already satisfied: Pillow in /usr/local/lib/python3.10/dist-packages (from rdkit-pypi) (11.0.0)\n",
            "Downloading rdkit_pypi-2022.9.5-cp310-cp310-manylinux_2_17_x86_64.manylinux2014_x86_64.whl (29.4 MB)\n",
            "\u001b[2K   \u001b[90m━━━━━━━━━━━━━━━━━━━━━━━━━━━━━━━━━━━━━━━━\u001b[0m \u001b[32m29.4/29.4 MB\u001b[0m \u001b[31m41.3 MB/s\u001b[0m eta \u001b[36m0:00:00\u001b[0m\n",
            "\u001b[?25hInstalling collected packages: rdkit-pypi\n",
            "Successfully installed rdkit-pypi-2022.9.5\n"
          ]
        }
      ],
      "source": [
        "import pandas as pd\n",
        "!pip install rdkit-pypi\n",
        "import numpy as np\n",
        "from rdkit import Chem\n",
        "from rdkit.Chem import AllChem"
      ]
    },
    {
      "cell_type": "code",
      "source": [
        "def calculate_morgan_fingerprint(smiles, radius=2, n_bits=2048):\n",
        "    \"\"\"\n",
        "    Calculate the Morgan fingerprint for a given molecule.\n",
        "\n",
        "    Parameters:\n",
        "    - smiles (str): The SMILES string of the molecule.\n",
        "    - radius (int): Radius of the Morgan fingerprint.\n",
        "    - n_bits (int): Number of bits for the fingerprint.\n",
        "\n",
        "    Returns:\n",
        "    - fingerprint (list): The Morgan fingerprint as a bit vector.\n",
        "    \"\"\"\n",
        "    try:\n",
        "        # Convert SMILES to RDKit Molecule object\n",
        "        mol = Chem.MolFromSmiles(smiles)\n",
        "        if mol is None:\n",
        "            return None\n",
        "            try:\n",
        "              mol = Chem.MolFromSmiles(smiles)\n",
        "              if mol is None:\n",
        "                return None\n",
        "                fp = AllChem.GetMorganFingerprintAsBitVect(mol, radius, nBits=n_bits)\n",
        "                return list(fp)\n",
        "    except Exception as e:\n",
        "        print(f\"Error processing SMILES {smiles}: {e}\")\n",
        "        return None"
      ],
      "metadata": {
        "colab": {
          "base_uri": "https://localhost:8080/",
          "height": 106
        },
        "id": "6jwU3BbygHsu",
        "outputId": "23f9c437-143d-46e7-90c0-b30ca4022ec0"
      },
      "execution_count": null,
      "outputs": [
        {
          "output_type": "error",
          "ename": "SyntaxError",
          "evalue": "expected 'except' or 'finally' block (<ipython-input-8-581b6730da94>, line 24)",
          "traceback": [
            "\u001b[0;36m  File \u001b[0;32m\"<ipython-input-8-581b6730da94>\"\u001b[0;36m, line \u001b[0;32m24\u001b[0m\n\u001b[0;31m    except Exception as e:\u001b[0m\n\u001b[0m    ^\u001b[0m\n\u001b[0;31mSyntaxError\u001b[0m\u001b[0;31m:\u001b[0m expected 'except' or 'finally' block\n"
          ]
        }
      ]
    },
    {
      "cell_type": "code",
      "source": [
        "import pandas as pd\n",
        "!pip install rdkit-pypi\n",
        "import numpy as np\n",
        "from rdkit import Chem\n",
        "from rdkit.Chem import AllChem\n",
        "\n",
        "def calculate_morgan_fingerprint(smiles, radius=2, n_bits=2048):\n",
        "    \"\"\"\n",
        "    Calculate the Morgan fingerprint for a given molecule.\n",
        "\n",
        "    Parameters:\n",
        "    - smiles (str): The SMILES string of the molecule.\n",
        "    - radius (int): Radius of the Morgan fingerprint.\n",
        "    - n_bits (int): Number of bits for the fingerprint.\n",
        "\n",
        "    Returns:\n",
        "    - fingerprint (list): The Morgan fingerprint as a bit vector.\n",
        "    \"\"\"\n",
        "    try:\n",
        "        # Convert SMILES to RDKit Molecule object\n",
        "        mol = Chem.MolFromSmiles(smiles)\n",
        "        if mol is None:\n",
        "            return None\n",
        "\n",
        "        # Generate Morgan fingerprint\n",
        "        fp = AllChem.GetMorganFingerprintAsBitVect(mol, radius, nBits=n_bits)\n",
        "\n",
        "        # Convert fingerprint to a string of bits\n",
        "        return list(fp)\n",
        "    except Exception as e:\n",
        "        print(f\"Error processing SMILES {smiles}: {e}\")\n",
        "        return None\n",
        "\n",
        "def process_csv(input_csv, output_csv, smiles_column='canonical_smiles', radius=2, n_bits=2048):\n",
        "    \"\"\"\n",
        "    Process a CSV file to calculate Morgan fingerprints for each SMILES.\n",
        "\n",
        "    Parameters:\n",
        "    - input_csv (str): Path to the input CSV file containing SMILES strings.\n",
        "    - output_csv (str): Path to the output CSV file to save fingerprints.\n",
        "    - smiles_column (str): Column name in the CSV that contains SMILES strings.\n",
        "    - radius (int): Radius of the Morgan fingerprint.\n",
        "    - n_bits (int): Number of bits for the fingerprint.\n",
        "    \"\"\"\n",
        "    # Load the CSV file\n",
        "    df = pd.read_csv('/content/filtered_bioactivity_data.csv')\n",
        "\n",
        "    if smiles_column not in df.columns:\n",
        "        print(f\"Column '{smiles_column}' not found in the input CSV.\")\n",
        "        return\n",
        "\n",
        "    # Calculate fingerprints\n",
        "    fingerprints = df[smiles_column].apply(lambda x: calculate_morgan_fingerprint(x, radius, n_bits))\n",
        "\n",
        "    # Add fingerprints to the DataFrame\n",
        "    df['Fingerprint'] = fingerprints.apply(lambda x: ','.join(map(str, x)) if x is not None else None)\n",
        "\n",
        "    # Save the DataFrame to a new CSV\n",
        "    df.to_csv(output_csv, index=False)\n",
        "    print(f\"Fingerprints saved to {output_csv}\")\n",
        "\n",
        "# Example usage\n",
        "if __name__ == \"__main__\": # Changed _name_ to __name__\n",
        "    input_csv = \"/content/filtered_bioactivity_data.csv\"  # Replace with your input CSV file\n",
        "    output_csv = \"molecules_with_fingerprints.csv\"  # Replace with your desired output file\n",
        "    smiles_column = \"canonical_smiles\"  # Column name with SMILES strings\n",
        "    process_csv(input_csv, output_csv, smiles_column)"
      ],
      "metadata": {
        "colab": {
          "base_uri": "https://localhost:8080/"
        },
        "id": "lrOvBB-pkrcR",
        "outputId": "4f03b480-e8c4-4569-94d2-4a97ddc8623c"
      },
      "execution_count": null,
      "outputs": [
        {
          "output_type": "stream",
          "name": "stdout",
          "text": [
            "Requirement already satisfied: rdkit-pypi in /usr/local/lib/python3.10/dist-packages (2022.9.5)\n",
            "Requirement already satisfied: numpy in /usr/local/lib/python3.10/dist-packages (from rdkit-pypi) (1.26.4)\n",
            "Requirement already satisfied: Pillow in /usr/local/lib/python3.10/dist-packages (from rdkit-pypi) (11.0.0)\n",
            "Fingerprints saved to molecules_with_fingerprints.csv\n"
          ]
        }
      ]
    },
    {
      "cell_type": "code",
      "source": [
        "import pandas as pd\n",
        "!pip install rdkit-pypi\n",
        "import numpy as np\n",
        "from rdkit import Chem\n",
        "from rdkit.Chem import AllChem\n",
        "\n",
        "def calculate_morgan_fingerprint(smiles, radius=2, n_bits=2048):\n",
        "    \"\"\"\n",
        "    Calculate the Morgan fingerprint for a given molecule.\n",
        "\n",
        "    Parameters:\n",
        "    - smiles (str): The SMILES string of the molecule.\n",
        "    - radius (int): Radius of the Morgan fingerprint.\n",
        "    - n_bits (int): Number of bits for the fingerprint.\n",
        "\n",
        "    Returns:\n",
        "    - fingerprint (list): The Morgan fingerprint as a bit vector.\n",
        "    \"\"\"\n",
        "    try:\n",
        "        # Convert SMILES to RDKit Molecule object\n",
        "        mol = Chem.MolFromSmiles(smiles)\n",
        "        if mol is None:\n",
        "            return None\n",
        "\n",
        "        # Generate Morgan fingerprint\n",
        "        fp = AllChem.GetMorganFingerprintAsBitVect(mol, radius, nBits=n_bits)\n",
        "\n",
        "        # Convert fingerprint to a list of bits\n",
        "        return list(fp)\n",
        "    except Exception as e:\n",
        "        print(f\"Error processing SMILES {smiles}: {e}\")\n",
        "        return None\n",
        "\n",
        "def process_csv(input_csv, output_csv, smiles_column='canonical_smiles', radius=2, n_bits=2048):\n",
        "    \"\"\"\n",
        "    Process a CSV file to calculate Morgan fingerprints for each SMILES.\n",
        "\n",
        "    Parameters:\n",
        "    - input_csv (str): Path to the input CSV file containing SMILES strings.\n",
        "    - output_csv (str): Path to the output CSV file to save fingerprints.\n",
        "    - smiles_column (str): Column name in the CSV that contains SMILES strings.\n",
        "    - radius (int): Radius of the Morgan fingerprint.\n",
        "    - n_bits (int): Number of bits for the fingerprint.\n",
        "    \"\"\"\n",
        "    # Load the CSV file\n",
        "    df = pd.read_csv('/content/filtered_bioactivity_data.csv')\n",
        "\n",
        "    if smiles_column not in df.columns:\n",
        "        print(f\"Column '{smiles_column}' not found in the input CSV.\")\n",
        "        return\n",
        "\n",
        "    # Calculate fingerprints\n",
        "    fingerprints = df[smiles_column].apply(lambda x: calculate_morgan_fingerprint(x, radius, n_bits))\n",
        "\n",
        "    # Convert fingerprints to DataFrame\n",
        "    fingerprint_df = pd.DataFrame(fingerprints.tolist(), columns=[f'FP_{i}' for i in range(n_bits)])\n",
        "\n",
        "    # Concatenate original DataFrame with fingerprint DataFrame\n",
        "    result_df = pd.concat([df, fingerprint_df], axis=1)\n",
        "\n",
        "    # Save the result to a new CSV\n",
        "    result_df.to_csv(output_csv, index=False)\n",
        "    print(f\"Fingerprints saved to {output_csv}\")\n",
        "\n",
        "# Example usage\n",
        "if __name__ == \"__main__\": # Changed _name_ to __name__\n",
        "    input_csv = \"/content/filtered_bioactivity_data.csv\"  # Replace with your input CSV file\n",
        "    output_csv = \"molecules_with_fingerprints.csv\"  # Replace with your desired output file\n",
        "    smiles_column = \"canonical_smiles\"  # Column name with SMILES strings\n",
        "    process_csv(input_csv, output_csv, smiles_column)"
      ],
      "metadata": {
        "colab": {
          "base_uri": "https://localhost:8080/"
        },
        "id": "xkSP12tXl-8_",
        "outputId": "1ba33d79-1dcd-44d6-bef1-241bae911ca6"
      },
      "execution_count": null,
      "outputs": [
        {
          "output_type": "stream",
          "name": "stdout",
          "text": [
            "Requirement already satisfied: rdkit-pypi in /usr/local/lib/python3.10/dist-packages (2022.9.5)\n",
            "Requirement already satisfied: numpy in /usr/local/lib/python3.10/dist-packages (from rdkit-pypi) (1.26.4)\n",
            "Requirement already satisfied: Pillow in /usr/local/lib/python3.10/dist-packages (from rdkit-pypi) (11.0.0)\n",
            "Fingerprints saved to molecules_with_fingerprints.csv\n"
          ]
        }
      ]
    }
  ]
}