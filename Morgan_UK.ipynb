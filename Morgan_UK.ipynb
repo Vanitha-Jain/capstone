{
  "nbformat": 4,
  "nbformat_minor": 0,
  "metadata": {
    "colab": {
      "provenance": [],
      "authorship_tag": "ABX9TyPuAhKD8YK/RuuMy8+IPPEH",
      "include_colab_link": true
    },
    "kernelspec": {
      "name": "python3",
      "display_name": "Python 3"
    },
    "language_info": {
      "name": "python"
    }
  },
  "cells": [
    {
      "cell_type": "markdown",
      "metadata": {
        "id": "view-in-github",
        "colab_type": "text"
      },
      "source": [
        "<a href=\"https://colab.research.google.com/github/Vanitha-Jain/capstone/blob/Molecular-descriptors_-Unknown/Morgan_UK.ipynb\" target=\"_parent\"><img src=\"https://colab.research.google.com/assets/colab-badge.svg\" alt=\"Open In Colab\"/></a>"
      ]
    },
    {
      "cell_type": "code",
      "execution_count": 1,
      "metadata": {
        "colab": {
          "base_uri": "https://localhost:8080/"
        },
        "id": "ltLjDQjuozo2",
        "outputId": "273fc810-ca63-4efb-fb55-143811bfde54"
      },
      "outputs": [
        {
          "output_type": "stream",
          "name": "stdout",
          "text": [
            "Collecting rdkit-pypi\n",
            "  Downloading rdkit_pypi-2022.9.5-cp311-cp311-manylinux_2_17_x86_64.manylinux2014_x86_64.whl.metadata (3.9 kB)\n",
            "Requirement already satisfied: numpy in /usr/local/lib/python3.11/dist-packages (from rdkit-pypi) (1.26.4)\n",
            "Requirement already satisfied: Pillow in /usr/local/lib/python3.11/dist-packages (from rdkit-pypi) (11.1.0)\n",
            "Downloading rdkit_pypi-2022.9.5-cp311-cp311-manylinux_2_17_x86_64.manylinux2014_x86_64.whl (29.4 MB)\n",
            "\u001b[2K   \u001b[90m━━━━━━━━━━━━━━━━━━━━━━━━━━━━━━━━━━━━━━━━\u001b[0m \u001b[32m29.4/29.4 MB\u001b[0m \u001b[31m19.6 MB/s\u001b[0m eta \u001b[36m0:00:00\u001b[0m\n",
            "\u001b[?25hInstalling collected packages: rdkit-pypi\n",
            "Successfully installed rdkit-pypi-2022.9.5\n"
          ]
        }
      ],
      "source": [
        "import pandas as pd\n",
        "!pip install rdkit-pypi\n",
        "import numpy as np\n",
        "from rdkit import Chem\n",
        "from rdkit.Chem import AllChem"
      ]
    },
    {
      "cell_type": "code",
      "source": [
        "def calculate_morgan_fingerprint(smiles, radius=2, n_bits=2048):\n",
        "    \"\"\"\n",
        "    Calculate the Morgan fingerprint for a given molecule.\n",
        "\n",
        "    Parameters:\n",
        "    - smiles (str): The SMILES string of the molecule.\n",
        "    - radius (int): Radius of the Morgan fingerprint.\n",
        "    - n_bits (int): Number of bits for the fingerprint.\n",
        "\n",
        "    Returns:\n",
        "    - fingerprint (list): The Morgan fingerprint as a bit vector.\n",
        "    \"\"\"\n",
        "    try:\n",
        "        # Convert SMILES to RDKit Molecule object\n",
        "        mol = Chem.MolFromSmiles(smiles)\n",
        "        if mol is None:\n",
        "            return None\n",
        "        # The nested try-except was unnecessary and incorrectly indented\n",
        "        # If mol is None, it will return None and the rest of the code won't execute\n",
        "        # The following lines are now correctly indented within the main try block\n",
        "        fp = AllChem.GetMorganFingerprintAsBitVect(mol, radius, nBits=n_bits)\n",
        "        return list(fp)\n",
        "    except Exception as e:\n",
        "        print(f\"Error processing SMILES {smiles}: {e}\")\n",
        "        return None"
      ],
      "metadata": {
        "id": "azNb7r6CpWkX"
      },
      "execution_count": 5,
      "outputs": []
    },
    {
      "cell_type": "code",
      "source": [
        "def process_excel(input_excel, output_csv, smiles_column='canonical_smiles', radius=2, n_bits=2048):\n",
        "    \"\"\"\n",
        "    Process a CSV file to calculate Morgan fingerprints for each SMILES.\n",
        "\n",
        "    Parameters:\n",
        "    - input_excel (str): Path to the input CSV file containing SMILES strings.\n",
        "    - output_csv (str): Path to the output CSV file to save fingerprints.\n",
        "    - smiles_column (str): Column name in the CSV that contains SMILES strings.\n",
        "    - radius (int): Radius of the Morgan fingerprint.\n",
        "    - n_bits (int): Number of bits for the fingerprint.\n",
        "    \"\"\"\n",
        "    # Load the CSV file\n",
        "    df = pd.read_excel('/content/Cluster 1 Rank.xlsx')\n",
        "\n",
        "    if smiles_column not in df.columns:\n",
        "        print(f\"Column '{smiles_column}' not found in the input CSV.\")\n",
        "        return\n",
        "\n",
        "    # Calculate fingerprints\n",
        "    fingerprints = df[smiles_column].apply(lambda x: calculate_morgan_fingerprint(x, radius, n_bits))\n",
        "\n",
        "    # Convert fingerprints to DataFrame\n",
        "    fingerprint_df = pd.DataFrame(fingerprints.tolist(), columns=[f'FP_{i}' for i in range(n_bits)])\n",
        "\n",
        "    # Concatenate original DataFrame with fingerprint DataFrame\n",
        "    result_df = pd.concat([df, fingerprint_df], axis=1)\n",
        "\n",
        "    # Save the result to a new CSV\n",
        "    result_df.to_csv(output_csv, index=False)\n",
        "    print(f\"Fingerprints saved to {output_csv}\")\n",
        "\n",
        "# Example usage\n",
        "if __name__ == \"__main__\": # Changed _name_ to __name__\n",
        "    input_excel = \"/content/Cluster 1 Rank.xlsx\"  # Replace with your input CSV file\n",
        "    output_csv = \"molecules_with_fingerprints.csv\"  # Replace with your desired output file\n",
        "    smiles_column = \"smiles\"  # Column name with SMILES strings\n",
        "    process_excel(input_excel, output_csv, smiles_column)"
      ],
      "metadata": {
        "colab": {
          "base_uri": "https://localhost:8080/"
        },
        "id": "YZy97dF5pZW0",
        "outputId": "cfaad612-5e27-4254-9179-ce1940201c24"
      },
      "execution_count": 8,
      "outputs": [
        {
          "output_type": "stream",
          "name": "stdout",
          "text": [
            "Fingerprints saved to molecules_with_fingerprints.csv\n"
          ]
        }
      ]
    }
  ]
}