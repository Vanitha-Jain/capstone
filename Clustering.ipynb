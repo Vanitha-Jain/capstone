{
  "nbformat": 4,
  "nbformat_minor": 0,
  "metadata": {
    "colab": {
      "provenance": [],
      "authorship_tag": "ABX9TyOkhlpJoMBxhuUaeDHBViBZ",
      "include_colab_link": true
    },
    "kernelspec": {
      "name": "python3",
      "display_name": "Python 3"
    },
    "language_info": {
      "name": "python"
    }
  },
  "cells": [
    {
      "cell_type": "markdown",
      "metadata": {
        "id": "view-in-github",
        "colab_type": "text"
      },
      "source": [
        "<a href=\"https://colab.research.google.com/github/Vanitha-Jain/capstone/blob/Model-building/Clustering.ipynb\" target=\"_parent\"><img src=\"https://colab.research.google.com/assets/colab-badge.svg\" alt=\"Open In Colab\"/></a>"
      ]
    },
    {
      "cell_type": "code",
      "source": [
        "import pandas as pd\n",
        "import numpy as np\n",
        "from sklearn.cluster import KMeans\n",
        "import matplotlib.pyplot as plt\n",
        "import seaborn as sns\n",
        "from sklearn.preprocessing import StandardScaler\n",
        "from mpl_toolkits.mplot3d import Axes3D\n",
        "from itertools import combinations\n",
        "from sklearn.metrics import silhouette_score\n",
        "\n",
        "df = pd.read_excel(\"/content/New_Unknown.xlsx\")\n",
        "print(\"Total compounds:\", len(df))\n",
        "print(df.keys())\n",
        "\n",
        "df = pd.read_excel(\"/content/New_Unknown.xlsx\")\n",
        "print(df.head())\n",
        "\n",
        "feature_columns = [\"Antioxidant\", \"Antiinflammatory\", \"Anti tumor\", \"OPP\"]\n",
        "scaler = StandardScaler()\n",
        "scaled_features = scaler.fit_transform(df[feature_columns])\n",
        "n_clusters = 5\n",
        "if np.any(np.isnan(df[feature_columns])) or np.any(np.isinf(df[feature_columns])):\n",
        "    df = df.dropna(subset=feature_columns)\n",
        "\n",
        "kmeans = KMeans(n_clusters=n_clusters, random_state=0)\n",
        "features = [\"Antioxidant\", \"Antiinflammatory\", \"Anti tumor\", \"OPP\"]\n",
        "df['Cluster'] = kmeans.fit_predict(df[features])\n",
        "print(\"Number of compounds in each cluster:\")\n",
        "print(df.head())\n",
        "print(df['Cluster'].value_counts())\n",
        "cluster_counts = df['Cluster'].value_counts()\n",
        "cluster_means = df.groupby('Cluster')[['Antioxidant', 'Antiinflammatory', 'Anti tumor', 'OPP']].mean()\n",
        "print(\"Mean Values for Each Cluster:\")\n",
        "print(cluster_means)"
      ],
      "metadata": {
        "colab": {
          "base_uri": "https://localhost:8080/"
        },
        "id": "TrrPfBTEwb4t",
        "outputId": "ef8597e5-e410-42b0-87b0-2523bb562454"
      },
      "execution_count": 44,
      "outputs": [
        {
          "output_type": "stream",
          "name": "stdout",
          "text": [
            "Total compounds: 288\n",
            "Index(['Compounds', 'Antioxidant', 'Antiinflammatory', 'Anti tumor', 'OPP'], dtype='object')\n",
            "    Compounds  Antioxidant  Antiinflammatory  Anti tumor  OPP\n",
            "0    Gossypin            1                 1           1    0\n",
            "1   Quercetin            1                 1           0    1\n",
            "2    Farnesol            1                 1           0    1\n",
            "3    Limonene            1                 0           0    1\n",
            "4  Curcumenol            1                 1           1    1\n",
            "Number of compounds in each cluster:\n",
            "    Compounds  Antioxidant  Antiinflammatory  Anti tumor  OPP  Cluster\n",
            "0    Gossypin            1                 1           1    0        4\n",
            "1   Quercetin            1                 1           0    1        2\n",
            "2    Farnesol            1                 1           0    1        2\n",
            "3    Limonene            1                 0           0    1        3\n",
            "4  Curcumenol            1                 1           1    1        1\n",
            "Cluster\n",
            "0    71\n",
            "2    67\n",
            "3    62\n",
            "1    55\n",
            "4    33\n",
            "Name: count, dtype: int64\n",
            "Mean Values for Each Cluster:\n",
            "         Antioxidant  Antiinflammatory  Anti tumor  OPP\n",
            "Cluster                                                \n",
            "0                1.0          0.549296    0.000000  0.0\n",
            "1                1.0          1.000000    1.000000  1.0\n",
            "2                1.0          1.000000    0.000000  1.0\n",
            "3                1.0          0.000000    0.225806  1.0\n",
            "4                1.0          0.545455    1.000000  0.0\n"
          ]
        }
      ]
    },
    {
      "cell_type": "code",
      "source": [
        "import matplotlib.pyplot as plt\n",
        "ax = cluster_means.plot(kind='bar', figsize=(10, 6))\n",
        "plt.title('Mean Values of Properties by Cluster')\n",
        "plt.ylabel('Mean Value')\n",
        "plt.xlabel('Cluster')\n",
        "plt.xticks(rotation=0)\n",
        "plt.grid(axis='y')\n",
        "plt.legend(title='Properties')\n",
        "for i, count in enumerate(cluster_counts):\n",
        "   if i < len(ax.patches):\n",
        "    bar_height = ax.patches[i].get_height()  # Get height of the i-th bar\n",
        "    ax.text(i, bar_height + 0.02, str(count), ha='center', va='bottom', fontsize=12)\n",
        "plt.show()\n"
      ],
      "metadata": {
        "colab": {
          "base_uri": "https://localhost:8080/",
          "height": 564
        },
        "id": "GiqGN_f-zpTS",
        "outputId": "d75641e7-9b4b-4b47-95f1-bab885ce86a7"
      },
      "execution_count": 45,
      "outputs": [
        {
          "output_type": "display_data",
          "data": {
            "text/plain": [
              "<Figure size 1000x600 with 1 Axes>"
            ],
            "image/png": "[encoded data removed]"
          },
          "metadata": {}
        }
      ]
    },
    {
      "cell_type": "code",
      "source": [
        "print(df.columns)"
      ],
      "metadata": {
        "colab": {
          "base_uri": "https://localhost:8080/"
        },
        "id": "lk6R7beX1R5x",
        "outputId": "cd2d8d00-41a0-4b7d-e524-15badf086dee"
      },
      "execution_count": 46,
      "outputs": [
        {
          "output_type": "stream",
          "name": "stdout",
          "text": [
            "Index(['Compounds', 'Antioxidant', 'Antiinflammatory', 'Anti tumor', 'OPP',\n",
            "       'Cluster'],\n",
            "      dtype='object')\n"
          ]
        }
      ]
    },
    {
      "cell_type": "code",
      "source": [
        "print(f'Silhouette Score: {silhouette_avg}')\n",
        "silhouette_df = pd.DataFrame({'Silhouette Score': [silhouette_avg]})\n",
        "silhouette_df.to_excel('Clustering_Silhouette_Score.xlsx', index=False)"
      ],
      "metadata": {
        "colab": {
          "base_uri": "https://localhost:8080/"
        },
        "id": "9MIllASW0wYr",
        "outputId": "99115d1f-d469-46f1-a7f9-1407ea578b1d"
      },
      "execution_count": 47,
      "outputs": [
        {
          "output_type": "stream",
          "name": "stdout",
          "text": [
            "Silhouette Score: 0.7524309576913154\n"
          ]
        }
      ]
    },
    {
      "cell_type": "code",
      "source": [
        "# Calculate a composite ranking score for each cluster\n",
        "cluster_means['Ranking Score'] = cluster_means.sum(axis=1)\n",
        "# Rank clusters based on the composite score in descending order\n",
        "cluster_ranking = cluster_means[['Ranking Score']].sort_values(by='Ranking Score', ascending=False)\n",
        "cluster_ranking['Rank'] = range(1, len(cluster_ranking) + 1)\n",
        "# Save the ranking to an Excel file\n",
        "cluster_ranking.to_excel('Cluster_Ranking.xlsx', index_label='Cluster')\n",
        "# Display the ranking\n",
        "print(\"Cluster Ranking based on composite score:\")\n",
        "print(cluster_ranking)\n"
      ],
      "metadata": {
        "colab": {
          "base_uri": "https://localhost:8080/"
        },
        "id": "NZAO74fm57jG",
        "outputId": "3c4f2e3e-1098-4d88-ddab-4d56b7f6e26d"
      },
      "execution_count": 48,
      "outputs": [
        {
          "output_type": "stream",
          "name": "stdout",
          "text": [
            "Cluster Ranking based on composite score:\n",
            "         Ranking Score  Rank\n",
            "Cluster                     \n",
            "1             4.000000     1\n",
            "2             3.000000     2\n",
            "4             2.545455     3\n",
            "3             2.225806     4\n",
            "0             1.549296     5\n"
          ]
        }
      ]
    }
  ]
}