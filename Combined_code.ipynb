{
  "nbformat": 4,
  "nbformat_minor": 0,
  "metadata": {
    "colab": {
      "provenance": [],
      "authorship_tag": "ABX9TyO6MUbUpkEleqxsPw9xz5iV",
      "include_colab_link": true
    },
    "kernelspec": {
      "name": "python3",
      "display_name": "Python 3"
    },
    "language_info": {
      "name": "python"
    }
  },
  "cells": [
    {
      "cell_type": "markdown",
      "metadata": {
        "id": "view-in-github",
        "colab_type": "text"
      },
      "source": [
        "<a href=\"https://colab.research.google.com/github/Vanitha-Jain/capstone/blob/Feature-selection-new/Combined_code.ipynb\" target=\"_parent\"><img src=\"https://colab.research.google.com/assets/colab-badge.svg\" alt=\"Open In Colab\"/></a>"
      ]
    },
    {
      "cell_type": "code",
      "execution_count": 1,
      "metadata": {
        "colab": {
          "base_uri": "https://localhost:8080/"
        },
        "id": "vgUt90NmR6ek",
        "outputId": "5f023935-0e5a-455e-83cd-ed6d9cb90ac4"
      },
      "outputs": [
        {
          "output_type": "stream",
          "name": "stdout",
          "text": [
            "['.config', 'APC2DFS2_after_feature.csv', 'CDKFS2_after_feature.csv', 'MACCSFS2_after_feature.csv', 'CDKEFS2_after_feature.csv', 'KRFS2_after_feature.csv', 'SSCFS2_after_feature.csv', 'ESFS2_after_feature.csv', 'RDFS2_after_feature.csv', 'PCFS2_after_feature.csv', 'CDKGFS2_after_feature.csv', 'KRCFS2_after_feature.csv', 'MFS2_after_feature.csv', 'SSFS2_after_feature.csv', 'AP2DFS2_after_feature.csv', 'sample_data']\n"
          ]
        }
      ],
      "source": [
        "import os\n",
        "print(os.listdir(\"/content\"))"
      ]
    },
    {
      "cell_type": "code",
      "source": [
        "# Define the list of file paths for all 14 CSV files\n",
        "file_paths = [\n",
        "    'APC2DFS2_after_feature.csv', 'CDKFS2_after_feature.csv', 'MACCSFS2_after_feature.csv', 'CDKEFS2_after_feature.csv', 'KRFS2_after_feature.csv', 'SSCFS2_after_feature.csv', 'ESFS2_after_feature.csv', 'RDFS2_after_feature.csv', 'PCFS2_after_feature.csv', 'CDKGFS2_after_feature.csv', 'KRCFS2_after_feature.csv', 'MFS2_after_feature.csv', 'SSFS2_after_feature.csv', 'AP2DFS2_after_feature.csv'\n",
        "]\n",
        "\n",
        "# Read the first dataset to initialize\n",
        "df_combined = pd.read_csv(file_paths[0])\n",
        "\n",
        "# Check if \"Unnamed: 0\" and \"bioactivity_class\" columns are the same across all datasets\n",
        "for file_path in file_paths[1:]:\n",
        "    df = pd.read_csv(file_path)\n",
        "\n",
        "    # Check if 'Unnamed: 0' and 'bioactivity_class' columns are equal to the first dataset\n",
        "    if not df['Unnamed: 0'].equals(df_combined['Unnamed: 0']) or not df['class'].equals(df_combined['class']):\n",
        "        raise ValueError(f\"Mismatch in columns 'Unnamed: 0' or 'class' in file {file_path}\")\n",
        "\n",
        "# Now append the remaining datasets, keeping the column order as they are\n",
        "for file_path in file_paths[1:]:\n",
        "    df = pd.read_csv(file_path)\n",
        "\n",
        "    # Merge on 'Unnamed: 0' and 'bioactivity_class', but keep the rest of the columns as they are\n",
        "    df_combined = pd.merge(df_combined, df, on=['Unnamed: 0', 'class'], how='outer')\n",
        "\n",
        "# Save the combined dataframe to a new CSV file\n",
        "df_combined.to_csv(\"Feature_selection_2.csv\", index=False)\n",
        "\n",
        "print(\"Datasets combined successfully!\")"
      ],
      "metadata": {
        "colab": {
          "base_uri": "https://localhost:8080/"
        },
        "id": "trbHeaL3VOOf",
        "outputId": "43a2bbb3-7e6e-4f10-cd4d-41501ee76df6"
      },
      "execution_count": 5,
      "outputs": [
        {
          "output_type": "stream",
          "name": "stdout",
          "text": [
            "Datasets combined successfully!\n"
          ]
        }
      ]
    }
  ]
}